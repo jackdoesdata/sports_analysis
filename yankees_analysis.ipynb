{
 "cells": [
  {
   "cell_type": "code",
   "execution_count": 4,
   "metadata": {
    "collapsed": true
   },
   "outputs": [],
   "source": [
    "import pandas as pd\n",
    "from pandas.io import sql\n",
    "import MySQLdb"
   ]
  },
  {
   "cell_type": "code",
   "execution_count": 5,
   "metadata": {
    "collapsed": true
   },
   "outputs": [],
   "source": [
    "db = MySQLdb.connect(host=\"localhost\",    \n",
    "                     user=\"root\",         \n",
    "                     passwd=\"Commercial549!\",  \n",
    "                     db=\"lahman2016\") "
   ]
  },
  {
   "cell_type": "markdown",
   "metadata": {},
   "source": [
    "# Create dataframes from MySQL tables\n",
    "### Split pitchers from fielders - will be analyzed on different criteria\n",
    "### Only keep players that played at least half the season"
   ]
  },
  {
   "cell_type": "code",
   "execution_count": 18,
   "metadata": {},
   "outputs": [],
   "source": [
    "query = \"\"\"SELECT * FROM war_daily_bat\"\"\"\n",
    "\n",
    "players = sql.read_sql(query, con=db)"
   ]
  },
  {
   "cell_type": "code",
   "execution_count": 19,
   "metadata": {},
   "outputs": [
    {
     "data": {
      "text/plain": [
       "array(['SFG', 'CHC', 'CHW', 'BOS', 'SEA', 'NYY', 'NYM', 'ATL', 'CIN',\n",
       "       'HOU', 'WSN', 'OAK', 'MIN', 'KCR', 'PHI', 'TBD', 'FLA', 'LAA',\n",
       "       'LAD', 'ARI', 'BAL', 'CLE', 'TBR', 'TOR', 'COL', 'STL', 'MIL',\n",
       "       'SDP', 'TEX', 'DET', 'MON', 'MIA', 'PIT', 'ANA'], dtype=object)"
      ]
     },
     "execution_count": 19,
     "metadata": {},
     "output_type": "execute_result"
    }
   ],
   "source": [
    "players['team_ID'].unique()"
   ]
  },
  {
   "cell_type": "code",
   "execution_count": null,
   "metadata": {
    "collapsed": true
   },
   "outputs": [],
   "source": []
  }
 ],
 "metadata": {
  "kernelspec": {
   "display_name": "Python 2",
   "language": "python",
   "name": "python2"
  },
  "language_info": {
   "codemirror_mode": {
    "name": "ipython",
    "version": 2
   },
   "file_extension": ".py",
   "mimetype": "text/x-python",
   "name": "python",
   "nbconvert_exporter": "python",
   "pygments_lexer": "ipython2",
   "version": "2.7.13"
  }
 },
 "nbformat": 4,
 "nbformat_minor": 2
}
