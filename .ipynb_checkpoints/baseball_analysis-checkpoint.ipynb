{
 "cells": [
  {
   "cell_type": "code",
   "execution_count": 1,
   "metadata": {
    "collapsed": true
   },
   "outputs": [],
   "source": [
    "import MySQLdb\n",
    "from pandas.io import sql\n",
    "import matplotlib.pyplot as plt"
   ]
  },
  {
   "cell_type": "code",
   "execution_count": 2,
   "metadata": {
    "collapsed": true
   },
   "outputs": [],
   "source": [
    "db = MySQLdb.connect(host=\"localhost\",    \n",
    "                     user=\"root\",         \n",
    "                     passwd=\"Commercial549!\",  \n",
    "                     db=\"lahman2016\") "
   ]
  },
  {
   "cell_type": "code",
   "execution_count": 3,
   "metadata": {},
   "outputs": [
    {
     "data": {
      "text/html": [
       "<div>\n",
       "<style>\n",
       "    .dataframe thead tr:only-child th {\n",
       "        text-align: right;\n",
       "    }\n",
       "\n",
       "    .dataframe thead th {\n",
       "        text-align: left;\n",
       "    }\n",
       "\n",
       "    .dataframe tbody tr th {\n",
       "        vertical-align: top;\n",
       "    }\n",
       "</style>\n",
       "<table border=\"1\" class=\"dataframe\">\n",
       "  <thead>\n",
       "    <tr style=\"text-align: right;\">\n",
       "      <th></th>\n",
       "      <th>Tables_in_lahman2016</th>\n",
       "    </tr>\n",
       "  </thead>\n",
       "  <tbody>\n",
       "    <tr>\n",
       "      <th>0</th>\n",
       "      <td>AllstarFull</td>\n",
       "    </tr>\n",
       "    <tr>\n",
       "      <th>1</th>\n",
       "      <td>Appearances</td>\n",
       "    </tr>\n",
       "    <tr>\n",
       "      <th>2</th>\n",
       "      <td>AwardsManagers</td>\n",
       "    </tr>\n",
       "    <tr>\n",
       "      <th>3</th>\n",
       "      <td>AwardsPlayers</td>\n",
       "    </tr>\n",
       "    <tr>\n",
       "      <th>4</th>\n",
       "      <td>AwardsShareManagers</td>\n",
       "    </tr>\n",
       "  </tbody>\n",
       "</table>\n",
       "</div>"
      ],
      "text/plain": [
       "  Tables_in_lahman2016\n",
       "0          AllstarFull\n",
       "1          Appearances\n",
       "2       AwardsManagers\n",
       "3        AwardsPlayers\n",
       "4  AwardsShareManagers"
      ]
     },
     "execution_count": 3,
     "metadata": {},
     "output_type": "execute_result"
    }
   ],
   "source": [
    "#show tables\n",
    "query = \"\"\"SHOW TABLES\"\"\"\n",
    "sql.read_sql(query, con = db).head()"
   ]
  },
  {
   "cell_type": "markdown",
   "metadata": {},
   "source": [
    "# Write a query to show the top ten home run hitters"
   ]
  },
  {
   "cell_type": "code",
   "execution_count": null,
   "metadata": {},
   "outputs": [],
   "source": [
    "query = \"\"\"\n",
    "SELECT \n",
    "    batting.playerID as playerID,\n",
    "    master.namefirst AS firstname,\n",
    "    master.namelast AS lastname,\n",
    "    SUM(batting.hr) AS hrs\n",
    "FROM \n",
    "    lahman2016.batting\n",
    "LEFT JOIN \n",
    "    lahman2016.master\n",
    "ON \n",
    "    batting.playerID = master.playerID\n",
    "GROUP BY \n",
    "    playerID\n",
    "ORDER BY \n",
    "    hrs DESC\n",
    "LIMIT 10\n",
    "\"\"\"\n",
    "\n",
    "sql.read_sql(query, con=db)"
   ]
  },
  {
   "cell_type": "markdown",
   "metadata": {},
   "source": [
    "## Write a query to return the ten players to the most home runs in the least amount of games"
   ]
  },
  {
   "cell_type": "code",
   "execution_count": null,
   "metadata": {},
   "outputs": [],
   "source": [
    "query = \"\"\"\n",
    "select \n",
    "    batting.playerID as playerID,\n",
    "    master.namefirst AS firstname,\n",
    "    master.namelast AS lastname,\n",
    "    SUM(batting.hr) as hrs,\n",
    "    SUM(batting.g) as games\n",
    "    FROM \n",
    "    lahman2016.batting\n",
    "LEFT JOIN \n",
    "    lahman2016.master\n",
    "ON \n",
    "    batting.playerID = master.playerID\n",
    "GROUP BY \n",
    "    playerID\n",
    "HAVING\n",
    "hrs > '500'\n",
    "ORDER BY\n",
    "    games ASC\n",
    "LIMIT 10\n",
    "    \n",
    "\"\"\"\n",
    "\n",
    "sql.read_sql(query, con=db)"
   ]
  },
  {
   "cell_type": "markdown",
   "metadata": {},
   "source": [
    "# Write a query that returns the player with the highest batting average and lowest fielding percentage, where that player has been in over 1,000 games"
   ]
  },
  {
   "cell_type": "code",
   "execution_count": null,
   "metadata": {},
   "outputs": [],
   "source": [
    "query = \"\"\"\n",
    "SELECT \n",
    "    batting_grouped.playerid AS playerid,\n",
    "    master.namefirst AS firstname,\n",
    "    master.namelast AS lastname,\n",
    "    SUM(batting_grouped.h)/SUM(batting_grouped.ab) AS batting_avg,\n",
    "    (SUM(fielding_grouped.po)+SUM(fielding_grouped.a))/(SUM(fielding_grouped.a)+SUM(fielding_grouped.e)+SUM(fielding_grouped.po)) AS fielding_percentage,\n",
    "    SUM(batting_grouped.g) as games\n",
    "FROM \n",
    "    lahman2016.batting_grouped\n",
    "LEFT JOIN\n",
    "    lahman2016.fielding_grouped\n",
    "ON\n",
    "    lahman2016.batting_grouped.playerid = lahman2016.fielding_grouped.playerid AND lahman2016.batting_grouped.yearid = lahman2016.fielding_grouped.yearid\n",
    "LEFT JOIN\n",
    "    lahman2016.master\n",
    "ON\n",
    "    batting_grouped.playerid = master.playerid\n",
    "GROUP BY \n",
    "    playerid, firstname, lastname\n",
    "HAVING\n",
    "    games > '1000'\n",
    "ORDER BY \n",
    "    batting_avg DESC,\n",
    "    fielding_percentage ASC\n",
    "LIMIT\n",
    "    1,1\n",
    "\n",
    "    \n",
    "\"\"\"\n",
    "\n",
    "sql.read_sql(query, con=db)"
   ]
  },
  {
   "cell_type": "code",
   "execution_count": null,
   "metadata": {
    "collapsed": true
   },
   "outputs": [],
   "source": []
  },
  {
   "cell_type": "code",
   "execution_count": null,
   "metadata": {
    "collapsed": true
   },
   "outputs": [],
   "source": []
  }
 ],
 "metadata": {
  "kernelspec": {
   "display_name": "Python 2",
   "language": "python",
   "name": "python2"
  },
  "language_info": {
   "codemirror_mode": {
    "name": "ipython",
    "version": 2
   },
   "file_extension": ".py",
   "mimetype": "text/x-python",
   "name": "python",
   "nbconvert_exporter": "python",
   "pygments_lexer": "ipython2",
   "version": "2.7.13"
  }
 },
 "nbformat": 4,
 "nbformat_minor": 2
}
